{
 "cells": [
  {
   "cell_type": "code",
   "execution_count": 2,
   "id": "4fffbc3e",
   "metadata": {},
   "outputs": [],
   "source": [
    "import numpy as np\n",
    "import pygeodesy"
   ]
  },
  {
   "cell_type": "code",
   "execution_count": 3,
   "id": "5d80191a",
   "metadata": {},
   "outputs": [],
   "source": [
    "Name=\"GBO_HIRAX_ARRAY\"\n",
    "N_Dishes=8\n",
    "N_Channels=16\n",
    "\n",
    "## 8 DISH Channel Map:\n",
    "GBO8_chmap=np.array([0,1,3,2,4,5,7,6,9,8,10,11,12,13,14,15])\n",
    "#GBO8_automap=np.array([0,  16,  45,  31,  58,  70,  91,  81, 108, 100, 115, 121, 126, 130, 133, 135])\n",
    "\n",
    "## Key, Position, Channel, Polarization, Pointing Variable Assignment:\n",
    "## RECEIVER INFORMATION is needed to initialize the geometric environments: ##\n",
    "## Must include some 'key' strings for labelling/identifying receivers: [Pranav's Conventions]\n",
    "Array_Keys=[\"Dish_0\",\"Dish_7\",\"Dish_2\",\"Dish_3\",\"Dish_4\",\"Dish_5\",\"Dish_6\",\"Dish_8\"]\n",
    "## Specify Coordinate Origin: #810m about MSL\n",
    "GBO_HIRAX_DISH_0=pygeodesy.ellipsoidalNvector.LatLon(38.429280, -79.844990, 810).to3llh()\n",
    "## Must Specify Coordinates and Pointings of receivers in Local Cartesian in an array of shape: n_receivers x 3 ##\n",
    "Array_Coords=np.array([[0.0, 0.0, 0.0], # \"Dish_0\" \\\n",
    "                       [-24.215395745765452, -12.605737141316427, 0.0], # \"Dish_7\" \\\n",
    "                       [-8.403824760877617, 16.143597163843634, 0.0], # \"Dish_2\" \\\n",
    "                       [-8.071798581921817, -4.2019123804388085, 0.0], # \"Dish_3\" \\\n",
    "                       [-12.273710962360624, 3.869886201483008, 0.0], # \"Dish_4\" \\\n",
    "                       [-16.475623342799434, 11.941684783404824, 0.0], # \"Dish_5\" \\\n",
    "                       [-20.345509544282443, -0.33202617895580033, 0.0], # \"Dish_6\" \\\n",
    "                       [-28.41730812620426, -4.53393855939461, 0.0]]) # \"Dish_8\" \\\n",
    "## If pointings are defined by vectors in Local Coordinates (E,N,U) use:\n",
    "Array_Pointings=np.array([[0,0,1], # +Z (up) in LC \\\n",
    "                          [0,0,1],\\\n",
    "                          [0,0,1],\\\n",
    "                          [0,0,1],\\\n",
    "                          [0,0,1],\\\n",
    "                          [0,0,1],\\\n",
    "                          [0,0,1],\\\n",
    "                          [0,0,1]])\n",
    "## If pointings are defined by angles from zenith, use:\n",
    "#Array_Pointings=np.array([RotMat(np.array([0.0,0.0,0.0]))@np.array([0.0,0.0,1.0]),  # e.g. 1 deg of yaw and roll \\\n",
    "#                          RotMat(np.array([0.0,0.0,0.0]))@np.array([0.0,0.0,1.0]),\\\n",
    "#                          RotMat(np.array([0.0,0.0,0.0]))@np.array([0.0,0.0,1.0]),\\\n",
    "#                          RotMat(np.array([0.0,0.0,0.0]))@np.array([0.0,0.0,1.0]),\\\n",
    "#                          RotMat(np.array([0.0,0.0,0.0]))@np.array([0.0,0.0,1.0]),\\\n",
    "#                          RotMat(np.array([0.0,0.0,0.0]))@np.array([0.0,0.0,1.0]),\\\n",
    "#                          RotMat(np.array([0.0,0.0,0.0]))@np.array([0.0,0.0,1.0]),\\\n",
    "#                          RotMat(np.array([0.0,0.0,0.0]))@np.array([0.0,0.0,1.0])])\n",
    "## Define Array Polarizations (2 per dish) in Local Cartesian E,N,U:\n",
    "Array_Pols=np.array([[[1,0,0],[0,1,0]], # E,N \\\n",
    "                     [[1,0,0],[0,1,0]], \\\n",
    "                     [[1,0,0],[0,1,0]], \\\n",
    "                     [[1,0,0],[0,1,0]], \\\n",
    "                     [[1,0,0],[0,1,0]], \\\n",
    "                     [[1,0,0],[0,1,0]], \\\n",
    "                     [[1,0,0],[0,1,0]], \\\n",
    "                     [[1,0,0],[0,1,0]]])"
   ]
  },
  {
   "cell_type": "code",
   "execution_count": 5,
   "id": "fbea3226",
   "metadata": {},
   "outputs": [],
   "source": [
    "fn=\"./GBO_config.npz\"\n",
    "np.savez(fn,\n",
    "    name=Name,\n",
    "    n_dishes=N_Dishes,\n",
    "    n_channels=N_Channels,\n",
    "    chmap=GBO8_chmap,\n",
    "    keystrings=Array_Keys,\n",
    "    origin=GBO_HIRAX_DISH_0,\n",
    "    coords=Array_Coords,\n",
    "    pointings=Array_Pointings,\n",
    "    polarizations=Array_Pointings\n",
    ")\n",
    "\n"
   ]
  },
  {
   "cell_type": "code",
   "execution_count": 7,
   "id": "af556695",
   "metadata": {},
   "outputs": [],
   "source": [
    "Name=\"LFOP_DISH\"\n",
    "N_Dishes=1\n",
    "N_Channels=2\n",
    "\n",
    "## 8 DISH Channel Map:\n",
    "LFOP_chmap=np.array([0,1])\n",
    "#GBO8_automap=np.array([0,  16,  45,  31,  58,  70,  91,  81, 108, 100, 115, 121, 126, 130, 133, 135])\n",
    "\n",
    "## Key, Position, Channel, Polarization, Pointing Variable Assignment:\n",
    "## Specify Coordinate Origin: #810m about MSL\n",
    "## Specify choice of origin in llh: (Southeast Corner of LFOP courtyard, by Dome)\n",
    "LFOP_SECorner_Vect=pygeodesy.ellipsoidalNvector.LatLon(41.32094627710947, -72.92185799298781, 23.964228339399998).to3llh()## Must Specify Coordinates and Pointings of receivers in Local Cartesian in an array of shape: n_receivers x 3 ##\n",
    "\n",
    "## RECEIVER INFORMATION is needed to initialize the geometric environments: ##\n",
    "\n",
    "## Must include some 'key' strings for labelling/identifying receivers:\n",
    "Array_Keys=['Cart']\n",
    "## Must Specify Coordinates and Pointings of receivers in Local Cartesian in an array of shape: n_receivers x 3 ##\n",
    "Array_Coords=np.array([[2.0,-5.0,0.1]])\n",
    "## If pointings are defined by vectors in Local Coordinates (E,N,U) use:\n",
    "Array_Pointings=np.array([[0,0,1]]) # +Z (up) in LC \n",
    "## If pointings are defined by angles from zenith, use:\n",
    "#Array_Pointings=np.array([RotMat(np.array([0.0,0.0,0.0]))@np.array([0.0,0.0,1.0])])\n",
    "## Define Array Polarizations (2 per dish) in Local Cartesian E,N,U:\n",
    "Array_Pols=np.array([[[1,0,0],[0,1,0]]]) # E,N \\\n",
    "\n",
    "\n"
   ]
  },
  {
   "cell_type": "code",
   "execution_count": 9,
   "id": "ea1d9621",
   "metadata": {},
   "outputs": [],
   "source": [
    "fn=\"./LFOP_config.npz\"\n",
    "np.savez(fn,\n",
    "    name=Name,\n",
    "    n_dishes=N_Dishes,\n",
    "    n_channels=N_Channels,\n",
    "    chmap=LFOP_chmap,\n",
    "    keystrings=Array_Keys,\n",
    "    origin=LFOP_SECorner_Vect,\n",
    "    coords=Array_Coords,\n",
    "    pointings=Array_Pointings,\n",
    "    polarizations=Array_Pointings\n",
    ")\n",
    "\n"
   ]
  },
  {
   "cell_type": "code",
   "execution_count": 10,
   "id": "1b6b3970",
   "metadata": {},
   "outputs": [],
   "source": [
    "dat=np.load(\"./LFOP_config.npz\")"
   ]
  },
  {
   "cell_type": "code",
   "execution_count": 11,
   "id": "119f3ce7",
   "metadata": {},
   "outputs": [
    {
     "name": "stdout",
     "output_type": "stream",
     "text": [
      "KeysView(<numpy.lib.npyio.NpzFile object at 0x7fc1e89c49d0>)\n"
     ]
    }
   ],
   "source": [
    "print(dat.keys())"
   ]
  },
  {
   "cell_type": "code",
   "execution_count": 12,
   "id": "b059615c",
   "metadata": {},
   "outputs": [
    {
     "data": {
      "text/plain": [
       "['name',\n",
       " 'n_dishes',\n",
       " 'n_channels',\n",
       " 'chmap',\n",
       " 'keystrings',\n",
       " 'origin',\n",
       " 'coords',\n",
       " 'pointings',\n",
       " 'polarizations']"
      ]
     },
     "execution_count": 12,
     "metadata": {},
     "output_type": "execute_result"
    }
   ],
   "source": [
    "dat.files"
   ]
  },
  {
   "cell_type": "code",
   "execution_count": 13,
   "id": "41e20c74",
   "metadata": {},
   "outputs": [
    {
     "data": {
      "text/plain": [
       "(1, 3)"
      ]
     },
     "execution_count": 13,
     "metadata": {},
     "output_type": "execute_result"
    }
   ],
   "source": [
    "dat['polarizations'].shape"
   ]
  },
  {
   "cell_type": "code",
   "execution_count": 15,
   "id": "36bfe719",
   "metadata": {},
   "outputs": [
    {
     "data": {
      "text/plain": [
       "array([0, 1])"
      ]
     },
     "execution_count": 15,
     "metadata": {},
     "output_type": "execute_result"
    }
   ],
   "source": [
    "dat['chmap']"
   ]
  },
  {
   "cell_type": "code",
   "execution_count": null,
   "id": "01c037c3",
   "metadata": {},
   "outputs": [],
   "source": []
  }
 ],
 "metadata": {
  "kernelspec": {
   "display_name": "Python 3 (ipykernel)",
   "language": "python",
   "name": "python3"
  },
  "language_info": {
   "codemirror_mode": {
    "name": "ipython",
    "version": 3
   },
   "file_extension": ".py",
   "mimetype": "text/x-python",
   "name": "python",
   "nbconvert_exporter": "python",
   "pygments_lexer": "ipython3",
   "version": "3.9.7"
  }
 },
 "nbformat": 4,
 "nbformat_minor": 5
}
