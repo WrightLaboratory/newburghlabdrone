{
 "cells": [
  {
   "cell_type": "code",
   "execution_count": 1,
   "id": "4fffbc3e",
   "metadata": {},
   "outputs": [],
   "source": [
    "import numpy as np\n",
    "import pygeodesy"
   ]
  },
  {
   "cell_type": "code",
   "execution_count": 3,
   "id": "ca422f85",
   "metadata": {},
   "outputs": [],
   "source": [
    "Name=\"CHIME_ARRAY\"\n",
    "N_Dishes=1\n",
    "N_Channels=2\n",
    "\n",
    "## 8 DISH Channel Map:\n",
    "WLC_chmap=np.arange(512)\n",
    "#GBO8_automap=np.array([0,  16,  45,  31,  58,  70,  91,  81, 108, 100, 115, 121, 126, 130, 133, 135])\n",
    "\n",
    "## Key, Position, Channel, Polarization, Pointing Variable Assignment:\n",
    "## Specify Coordinate Origin: \n",
    "#\n",
    "## Specify choice of origin in llh: (Concrete Pad above Wright Lab Connecter)\n",
    "CHIME_Center_Vect=pygeodesy.ellipsoidalNvector.LatLon(49.3207092194,-119.6236774310, 555.372).to3llh()\n",
    "## Must Specify Coordinates and Pointings of receivers in Local Cartesian in an array of shape: n_receivers x 3 ##\n",
    "\n",
    "## RECEIVER INFORMATION is needed to initialize the geometric environments: ##\n",
    "\n",
    "## Must include some 'key' strings for labelling/identifying receivers:\n",
    "Array_Keys=['CHIME_CENTER']\n",
    "## Must Specify Coordinates and Pointings of receivers in Local Cartesian in an array of shape: n_receivers x 3 ##\n",
    "Array_Coords=np.array([[0.0,0.0,0.0]])\n",
    "## If pointings are defined by vectors in Local Coordinates (E,N,U) use:\n",
    "Array_Pointings=np.array([[0,0,1]]) # +Z (up) in LC \n",
    "## If pointings are defined by angles from zenith, use:\n",
    "#Array_Pointings=np.array([RotMat(np.array([0.0,0.0,0.0]))@np.array([0.0,0.0,1.0])])\n",
    "## Define Array Polarizations (2 per dish) in Local Cartesian E,N,U:\n",
    "Array_Pols=np.array([[[1,0,0],[0,1,0]]]) # E,N \n"
   ]
  },
  {
   "cell_type": "code",
   "execution_count": 4,
   "id": "1066f2ee",
   "metadata": {},
   "outputs": [],
   "source": [
    "fn=\"./CHIME_config.npz\"\n",
    "np.savez(fn,\n",
    "    name=Name,\n",
    "    n_dishes=N_Dishes,\n",
    "    n_channels=N_Channels,\n",
    "    chmap=WLC_chmap,\n",
    "    keystrings=Array_Keys,\n",
    "    origin=CHIME_Center_Vect,\n",
    "    coords=Array_Coords,\n",
    "    pointings=Array_Pointings,\n",
    "    polarizations=Array_Pointings\n",
    ")"
   ]
  },
  {
   "cell_type": "code",
   "execution_count": 32,
   "id": "29a7b562",
   "metadata": {},
   "outputs": [],
   "source": [
    "Name=\"CHIME_Cyl_C\"\n",
    "N_Dishes=512\n",
    "N_Channels=512\n",
    "\n",
    "## 512 DISH Channel Map:\n",
    "CHIME_chmap=np.repeat(np.arange(256),2)+np.tile([0,256],256)\n",
    "CHIME_chmap=np.arange(512)\n",
    "\n",
    "## Specify choice of origin in llh: (Concrete Pad above Wright Lab Connecter)\n",
    "#CHIME_Center_Vect=pygeodesy.ellipsoidalNvector.LatLon(49.3207092194,-119.6236774310, 555.372).to3llh()\n",
    "CHIME_Center_Vect=pygeodesy.ellipsoidalNvector.LatLon(49.3207092194,-119.6236774310, 545.671-5.0).to3llh()\n",
    "## Must Specify Coordinates and Pointings of receivers in Local Cartesian in an array of shape: n_receivers x 3 ##\n",
    "\n",
    "## RECEIVER INFORMATION is needed to initialize the geometric environments: ##\n",
    "\n",
    "## Must include some 'key' strings for labelling/identifying receivers:\n",
    "Array_Keys=['CHIME_Cyl_C']\n",
    "## Must Specify Coordinates and Pointings of receivers in Local Cartesian in an array of shape: n_receivers x 3 ##\n",
    "\n",
    "CHIME_ANG=0.071#deg\n",
    "def CHIME_2d_Rot(X,Y,theta=CHIME_ANG):\n",
    "    xp=X*np.cos(theta*np.pi/180.0)-Y*np.sin(theta*np.pi/180.0)\n",
    "    yp=X*np.sin(theta*np.pi/180.0)+Y*np.cos(theta*np.pi/180.0)\n",
    "    return [xp,yp]\n",
    "chime_c_x=np.tile(11.0*np.ones(256),2)\n",
    "chime_c_y=np.tile(np.linspace(-0.3048*(256/2),+0.3048*(256/2),256),2)\n",
    "xyz=np.zeros((512,3))\n",
    "xyz[:,0]=CHIME_2d_Rot(chime_c_x,chime_c_y)[0]\n",
    "xyz[:,1]=CHIME_2d_Rot(chime_c_x,chime_c_y)[1]\n",
    "xyz[:,2]=-3.953*np.ones(512)\n",
    "Array_Coords=xyz\n",
    "## If pointings are defined by vectors in Local Coordinates (E,N,U) use:\n",
    "Array_Pointings=np.outer(np.ones(512),np.array([0,0,1])) # +Z (up) in LC \n",
    "## If pointings are defined by angles from zenith, use:\n",
    "#Array_Pointings=np.array([RotMat(np.array([0.0,0.0,0.0]))@np.array([0.0,0.0,1.0])])\n",
    "## Define Array Polarizations (2 per dish) in Local Cartesian E,N,U:\n",
    "Array_Pols=np.outer(np.ones(512),np.array([[[1,0,0],[0,1,0]]])).reshape(512,2,3) # E,N \n"
   ]
  },
  {
   "cell_type": "code",
   "execution_count": 33,
   "id": "b43568a3",
   "metadata": {},
   "outputs": [],
   "source": [
    "fn=\"./CHIME_CylC_config_v2.npz\"\n",
    "np.savez(fn,\n",
    "    name=Name,\n",
    "    n_dishes=N_Dishes,\n",
    "    n_channels=N_Channels,\n",
    "    chmap=CHIME_chmap,\n",
    "    keystrings=Array_Keys,\n",
    "    origin=CHIME_Center_Vect,\n",
    "    coords=Array_Coords,\n",
    "    pointings=Array_Pointings,\n",
    "    polarizations=Array_Pointings\n",
    ")"
   ]
  },
  {
   "cell_type": "code",
   "execution_count": 2,
   "id": "5d80191a",
   "metadata": {},
   "outputs": [],
   "source": [
    "Name=\"GBO_HIRAX_ARRAY\"\n",
    "N_Dishes=8\n",
    "N_Channels=16\n",
    "\n",
    "## 8 DISH Channel Map:\n",
    "GBO8_chmap=np.array([0,1,3,2,4,5,7,6,9,8,10,11,12,13,14,15])\n",
    "#GBO8_automap=np.array([0,  16,  45,  31,  58,  70,  91,  81, 108, 100, 115, 121, 126, 130, 133, 135])\n",
    "\n",
    "## Key, Position, Channel, Polarization, Pointing Variable Assignment:\n",
    "## RECEIVER INFORMATION is needed to initialize the geometric environments: ##\n",
    "## Must include some 'key' strings for labelling/identifying receivers: [Pranav's Conventions]\n",
    "Array_Keys=[\"Dish_0_X\",\"Dish_0_Y\",\\\n",
    "            \"Dish_7_X\",\"Dish_7_Y\",\\\n",
    "            \"Dish_2_X\",\"Dish_2_Y\",\\\n",
    "            \"Dish_3_X\",\"Dish_3_Y\",\\\n",
    "            \"Dish_4_X\",\"Dish_4_Y\",\\\n",
    "            \"Dish_5_X\",\"Dish_5_Y\",\\\n",
    "            \"Dish_6_X\",\"Dish_6_Y\",\\\n",
    "            \"Dish_8_X\",\"Dish_8_Y\"]\n",
    "## Specify Coordinate Origin: #810m about MSL\n",
    "GBO_HIRAX_DISH_0=pygeodesy.ellipsoidalNvector.LatLon(38.429280, -79.844990, 810).to3llh()\n",
    "## Must Specify Coordinates and Pointings of receivers in Local Cartesian in an array of shape: n_receivers x 3 ##\n",
    "Array_Coords=np.array([[0.0, 0.0, 0.0],[0.0, 0.0, 0.0], # \"Dish_0\" \\\n",
    "                       [-24.215395745765452, -12.605737141316427, 0.0],[-24.215395745765452, -12.605737141316427, 0.0], # \"Dish_7\" \\\n",
    "                       [-8.403824760877617, 16.143597163843634, 0.0],[-8.403824760877617, 16.143597163843634, 0.0], # \"Dish_2\" \\\n",
    "                       [-8.071798581921817, -4.2019123804388085, 0.0],[-8.071798581921817, -4.2019123804388085, 0.0], # \"Dish_3\" \\\n",
    "                       [-12.273710962360624, 3.869886201483008, 0.0],[-12.273710962360624, 3.869886201483008, 0.0],# \"Dish_4\" \\\n",
    "                       [-16.475623342799434, 11.941684783404824, 0.0],[-16.475623342799434, 11.941684783404824, 0.0], # \"Dish_5\" \\\n",
    "                       [-20.345509544282443, -0.33202617895580033, 0.0],[-20.345509544282443, -0.33202617895580033, 0.0], # \"Dish_6\" \\\n",
    "                       [-28.41730812620426, -4.53393855939461, 0.0],[-28.41730812620426, -4.53393855939461, 0.0]]) # \"Dish_8\" \\\n",
    "## If pointings are defined by vectors in Local Coordinates (E,N,U) use:\n",
    "Array_Pointings=np.array([[0,0,1],[0,0,1], # +Z (up) in LC \\\n",
    "                          [0,0,1],[0,0,1],\\\n",
    "                          [0,0,1],[0,0,1],\\\n",
    "                          [0,0,1],[0,0,1],\\\n",
    "                          [0,0,1],[0,0,1],\\\n",
    "                          [0,0,1],[0,0,1],\\\n",
    "                          [0,0,1],[0,0,1],\\\n",
    "                          [0,0,1],[0,0,1]])\n",
    "## If pointings are defined by angles from zenith, use:\n",
    "#Array_Pointings=np.array([RotMat(np.array([0.0,0.0,0.0]))@np.array([0.0,0.0,1.0]),  # e.g. 1 deg of yaw and roll \\\n",
    "#                          RotMat(np.array([0.0,0.0,0.0]))@np.array([0.0,0.0,1.0]),\\\n",
    "#                          RotMat(np.array([0.0,0.0,0.0]))@np.array([0.0,0.0,1.0]),\\\n",
    "#                          RotMat(np.array([0.0,0.0,0.0]))@np.array([0.0,0.0,1.0]),\\\n",
    "#                          RotMat(np.array([0.0,0.0,0.0]))@np.array([0.0,0.0,1.0]),\\\n",
    "#                          RotMat(np.array([0.0,0.0,0.0]))@np.array([0.0,0.0,1.0]),\\\n",
    "#                          RotMat(np.array([0.0,0.0,0.0]))@np.array([0.0,0.0,1.0]),\\\n",
    "#                          RotMat(np.array([0.0,0.0,0.0]))@np.array([0.0,0.0,1.0])])\n",
    "## Define Array Polarizations (2 per dish) in Local Cartesian E,N,U:\n",
    "Array_Pols=np.array([[[1,0,0],[0,1,0]],[[1,0,0],[0,1,0]], # E,N \\\n",
    "                     [[1,0,0],[0,1,0]],[[1,0,0],[0,1,0]], \\\n",
    "                     [[1,0,0],[0,1,0]],[[1,0,0],[0,1,0]], \\\n",
    "                     [[1,0,0],[0,1,0]],[[1,0,0],[0,1,0]], \\\n",
    "                     [[1,0,0],[0,1,0]],[[1,0,0],[0,1,0]], \\\n",
    "                     [[1,0,0],[0,1,0]],[[1,0,0],[0,1,0]], \\\n",
    "                     [[1,0,0],[0,1,0]],[[1,0,0],[0,1,0]], \\\n",
    "                     [[1,0,0],[0,1,0]],[[1,0,0],[0,1,0]]])"
   ]
  },
  {
   "cell_type": "code",
   "execution_count": 3,
   "id": "fbea3226",
   "metadata": {},
   "outputs": [],
   "source": [
    "fn=\"./GBO_config.npz\"\n",
    "np.savez(fn,\n",
    "    name=Name,\n",
    "    n_dishes=N_Dishes,\n",
    "    n_channels=N_Channels,\n",
    "    chmap=GBO8_chmap,\n",
    "    keystrings=Array_Keys,\n",
    "    origin=GBO_HIRAX_DISH_0,\n",
    "    coords=Array_Coords,\n",
    "    pointings=Array_Pointings,\n",
    "    polarizations=Array_Pointings\n",
    ")\n",
    "\n"
   ]
  },
  {
   "cell_type": "code",
   "execution_count": 4,
   "id": "af556695",
   "metadata": {},
   "outputs": [],
   "source": [
    "Name=\"LFOP_DISH\"\n",
    "N_Dishes=1\n",
    "N_Channels=2\n",
    "\n",
    "## 8 DISH Channel Map:\n",
    "LFOP_chmap=np.array([0,1])\n",
    "#GBO8_automap=np.array([0,  16,  45,  31,  58,  70,  91,  81, 108, 100, 115, 121, 126, 130, 133, 135])\n",
    "\n",
    "## Key, Position, Channel, Polarization, Pointing Variable Assignment:\n",
    "## Specify Coordinate Origin: #810m about MSL\n",
    "## Specify choice of origin in llh: (Southeast Corner of LFOP courtyard, by Dome)\n",
    "LFOP_SECorner_Vect=pygeodesy.ellipsoidalNvector.LatLon(41.32094627710947, -72.92185799298781, 23.964228339399998).to3llh()## Must Specify Coordinates and Pointings of receivers in Local Cartesian in an array of shape: n_receivers x 3 ##\n",
    "\n",
    "## RECEIVER INFORMATION is needed to initialize the geometric environments: ##\n",
    "\n",
    "## Must include some 'key' strings for labelling/identifying receivers:\n",
    "Array_Keys=['Cart_X','Cart_X']\n",
    "## Must Specify Coordinates and Pointings of receivers in Local Cartesian in an array of shape: n_receivers x 3 ##\n",
    "Array_Coords=np.array([[2.0,-5.0,0.1],[2.0,-5.0,0.1]])\n",
    "## If pointings are defined by vectors in Local Coordinates (E,N,U) use:\n",
    "Array_Pointings=np.array([[0,0,1],[0,0,1]]) # +Z (up) in LC \n",
    "## If pointings are defined by angles from zenith, use:\n",
    "#Array_Pointings=np.array([RotMat(np.array([0.0,0.0,0.0]))@np.array([0.0,0.0,1.0])])\n",
    "## Define Array Polarizations (2 per dish) in Local Cartesian E,N,U:\n",
    "Array_Pols=np.array([[[1,0,0],[0,1,0]],[[1,0,0],[0,1,0]]]) # E,N \\\n",
    "\n",
    "\n"
   ]
  },
  {
   "cell_type": "code",
   "execution_count": 5,
   "id": "ea1d9621",
   "metadata": {},
   "outputs": [],
   "source": [
    "fn=\"./LFOP_config.npz\"\n",
    "np.savez(fn,\n",
    "    name=Name,\n",
    "    n_dishes=N_Dishes,\n",
    "    n_channels=N_Channels,\n",
    "    chmap=LFOP_chmap,\n",
    "    keystrings=Array_Keys,\n",
    "    origin=LFOP_SECorner_Vect,\n",
    "    coords=Array_Coords,\n",
    "    pointings=Array_Pointings,\n",
    "    polarizations=Array_Pointings\n",
    ")\n",
    "\n"
   ]
  },
  {
   "cell_type": "code",
   "execution_count": 6,
   "id": "8068241e",
   "metadata": {},
   "outputs": [],
   "source": [
    "Name=\"WLC_DISH\"\n",
    "N_Dishes=1\n",
    "N_Channels=2\n",
    "\n",
    "## 8 DISH Channel Map:\n",
    "WLC_chmap=np.array([0,1])\n",
    "#GBO8_automap=np.array([0,  16,  45,  31,  58,  70,  91,  81, 108, 100, 115, 121, 126, 130, 133, 135])\n",
    "\n",
    "## Key, Position, Channel, Polarization, Pointing Variable Assignment:\n",
    "## Specify Coordinate Origin: #\n",
    "## Specify choice of origin in llh: (Concrete Pad above Wright Lab Connecter)\n",
    "WLC_Pad_Vect=pygeodesy.ellipsoidalNvector.LatLon(41.319436,-72.921325, 27.93).to3llh()## Must Specify Coordinates and Pointings of receivers in Local Cartesian in an array of shape: n_receivers x 3 ##\n",
    "\n",
    "## RECEIVER INFORMATION is needed to initialize the geometric environments: ##\n",
    "\n",
    "## Must include some 'key' strings for labelling/identifying receivers:\n",
    "Array_Keys=['Cart_X','Cart_Y']\n",
    "## Must Specify Coordinates and Pointings of receivers in Local Cartesian in an array of shape: n_receivers x 3 ##\n",
    "Array_Coords=np.array([[0.0,0.0,0.0],[0.0,0.0,0.0]])\n",
    "## If pointings are defined by vectors in Local Coordinates (E,N,U) use:\n",
    "Array_Pointings=np.array([[0,0,1],[0,0,1]]) # +Z (up) in LC \n",
    "## If pointings are defined by angles from zenith, use:\n",
    "#Array_Pointings=np.array([RotMat(np.array([0.0,0.0,0.0]))@np.array([0.0,0.0,1.0])])\n",
    "## Define Array Polarizations (2 per dish) in Local Cartesian E,N,U:\n",
    "Array_Pols=np.array([[[1,0,0],[0,1,0]],[[1,0,0],[0,1,0]]]) # E,N \\\n",
    "\n",
    "\n"
   ]
  },
  {
   "cell_type": "code",
   "execution_count": 7,
   "id": "796426e7",
   "metadata": {},
   "outputs": [],
   "source": [
    "fn=\"./WLC_config.npz\"\n",
    "np.savez(fn,\n",
    "    name=Name,\n",
    "    n_dishes=N_Dishes,\n",
    "    n_channels=N_Channels,\n",
    "    chmap=WLC_chmap,\n",
    "    keystrings=Array_Keys,\n",
    "    origin=WLC_Pad_Vect,\n",
    "    coords=Array_Coords,\n",
    "    pointings=Array_Pointings,\n",
    "    polarizations=Array_Pointings\n",
    ")\n",
    "\n"
   ]
  },
  {
   "cell_type": "code",
   "execution_count": 2,
   "id": "a6e2f105",
   "metadata": {},
   "outputs": [
    {
     "data": {
      "text/plain": [
       "4.1148"
      ]
     },
     "execution_count": 2,
     "metadata": {},
     "output_type": "execute_result"
    }
   ],
   "source": [
    "13.5*0.3048"
   ]
  },
  {
   "cell_type": "code",
   "execution_count": 2,
   "id": "adb1960a",
   "metadata": {},
   "outputs": [],
   "source": [
    "Name=\"WLC_DISH_NS20230519\"\n",
    "N_Dishes=2\n",
    "N_Channels=2\n",
    "\n",
    "## 8 DISH Channel Map:\n",
    "WLC_chmap=np.array([0,1])\n",
    "\n",
    "## Key, Position, Channel, Polarization, Pointing Variable Assignment:\n",
    "## Specify Coordinate Origin: #\n",
    "## Specify choice of origin in llh: (Concrete Pad above Wright Lab Connecter)\n",
    "WLC_Pad_Vect=pygeodesy.ellipsoidalNvector.LatLon(41.319436,-72.921325, 27.93).to3llh()## Must Specify Coordinates and Pointings of receivers in Local Cartesian in an array of shape: n_receivers x 3 ##\n",
    "\n",
    "## RECEIVER INFORMATION is needed to initialize the geometric environments: ##\n",
    "\n",
    "## Must include some 'key' strings for labelling/identifying receivers:\n",
    "Array_Keys=['Bico','Cart_Y']\n",
    "## Must Specify Coordinates and Pointings of receivers in Local Cartesian in an array of shape: n_receivers x 3 ##\n",
    "Array_Coords=np.array([[-4.1,0.0,2.0],[0.0,0.0,0.0]])\n",
    "## If pointings are defined by vectors in Local Coordinates (E,N,U) use:\n",
    "Array_Pointings=np.array([[0,0,1],[0,0,1]]) # +Z (up) in LC \n",
    "## If pointings are defined by angles from zenith, use:\n",
    "#Array_Pointings=np.array([RotMat(np.array([0.0,0.0,0.0]))@np.array([0.0,0.0,1.0])])\n",
    "## Define Array Polarizations (2 per dish) in Local Cartesian E,N,U:\n",
    "Array_Pols=np.array([[[1,0,0],[0,1,0]],[[1,0,0],[0,1,0]]]) # E,N \\\n",
    "\n",
    "fn=\"./WLC_config_NS20230519.npz\"\n",
    "np.savez(fn,\n",
    "    name=Name,\n",
    "    n_dishes=N_Dishes,\n",
    "    n_channels=N_Channels,\n",
    "    chmap=WLC_chmap,\n",
    "    keystrings=Array_Keys,\n",
    "    origin=WLC_Pad_Vect,\n",
    "    coords=Array_Coords,\n",
    "    pointings=Array_Pointings,\n",
    "    polarizations=Array_Pointings\n",
    ")\n",
    "\n",
    "Name=\"WLC_DISH_EW20230519\"\n",
    "N_Dishes=2\n",
    "N_Channels=2\n",
    "\n",
    "## 8 DISH Channel Map:\n",
    "WLC_chmap=np.array([0,1])\n",
    "\n",
    "## Key, Position, Channel, Polarization, Pointing Variable Assignment:\n",
    "## Specify Coordinate Origin: #\n",
    "## Specify choice of origin in llh: (Concrete Pad above Wright Lab Connecter)\n",
    "WLC_Pad_Vect=pygeodesy.ellipsoidalNvector.LatLon(41.319436,-72.921325, 27.93).to3llh()## Must Specify Coordinates and Pointings of receivers in Local Cartesian in an array of shape: n_receivers x 3 ##\n",
    "\n",
    "## RECEIVER INFORMATION is needed to initialize the geometric environments: ##\n",
    "\n",
    "## Must include some 'key' strings for labelling/identifying receivers:\n",
    "Array_Keys=['Cart_X','Bico']\n",
    "## Must Specify Coordinates and Pointings of receivers in Local Cartesian in an array of shape: n_receivers x 3 ##\n",
    "Array_Coords=np.array([[0.0,0.0,0.0],[-4.1,0.0,2.0]])\n",
    "## If pointings are defined by vectors in Local Coordinates (E,N,U) use:\n",
    "Array_Pointings=np.array([[0,0,1],[0,0,1]]) # +Z (up) in LC \n",
    "## If pointings are defined by angles from zenith, use:\n",
    "#Array_Pointings=np.array([RotMat(np.array([0.0,0.0,0.0]))@np.array([0.0,0.0,1.0])])\n",
    "## Define Array Polarizations (2 per dish) in Local Cartesian E,N,U:\n",
    "Array_Pols=np.array([[[1,0,0],[0,1,0]],[[1,0,0],[0,1,0]]]) # E,N \\\n",
    "\n",
    "fn=\"./WLC_config_EW20230519.npz\"\n",
    "np.savez(fn,\n",
    "    name=Name,\n",
    "    n_dishes=N_Dishes,\n",
    "    n_channels=N_Channels,\n",
    "    chmap=WLC_chmap,\n",
    "    keystrings=Array_Keys,\n",
    "    origin=WLC_Pad_Vect,\n",
    "    coords=Array_Coords,\n",
    "    pointings=Array_Pointings,\n",
    "    polarizations=Array_Pointings\n",
    ")"
   ]
  },
  {
   "cell_type": "code",
   "execution_count": 9,
   "id": "8c4a37cc",
   "metadata": {},
   "outputs": [],
   "source": [
    "Name=\"D3A_3M_DISH\"\n",
    "N_Dishes=3\n",
    "N_Channels=6\n",
    "\n",
    "## 1 DISH 2 REFERENCE ANTENNA Channel Map:\n",
    "D3A_chmap=np.array([0,1,2,3,4,5,6,7,8,9,10,11,12,13,14,15])\n",
    "D3A_chmap=np.array([0,1,2,3])\n",
    "\n",
    "## Key, Position, Channel, Polarization, Pointing Variable Assignment:\n",
    "## Specify Coordinate Origin: \n",
    "# \n",
    "## Specify choice of origin in llh:\n",
    "D3A_3m_Vect=pygeodesy.ellipsoidalNvector.LatLon(49.3220300, -119.6226600, 555.372).to3llh()\n",
    "## Must Specify Coordinates and Pointings of receivers in Local Cartesian in an array of shape: n by 3\n",
    "\n",
    "## RECEIVER INFORMATION is needed to initialize the geometric environments: \n",
    "\n",
    "## Must include some 'key' strings for labelling/identifying receivers:\n",
    "Array_Keys=['D3A_3m','D3A_3m_rfof','W_Bico','N_Bico']\n",
    "## Must Specify Coordinates and Pointings of receivers in Local Cartesian in an array of shape: n_receivers x 3 ##\n",
    "Array_Coords=np.array([[-4.0,0.0,0.0],\\\n",
    "                       [0.0,4.0,0.0],\\\n",
    "                       [0.0,0.0,0.0],\\\n",
    "                       [0.0,0.0,0.0]])\n",
    "## If pointings are defined by vectors in Local Coordinates (E,N,U) use:\n",
    "Array_Pointings=np.array([[0,0,1],[0,0,1],[0,0,1],[0,0,1]]) # +Z (up) in LC \n",
    "## If pointings are defined by angles from zenith, use:\n",
    "#Array_Pointings=np.array([RotMat(np.array([0.0,0.0,0.0]))@np.array([0.0,0.0,1.0])])\n",
    "## Define Array Polarizations (2 per dish) in Local Cartesian E,N,U:\n",
    "Array_Pols=np.array([[np.sqrt(2)/2,-np.sqrt(2)/2,0],\\\n",
    "                      [np.sqrt(2)/2,np.sqrt(2)/2,0],\\\n",
    "                      [np.sqrt(2)/2,np.sqrt(2)/2,0],\\\n",
    "                      [np.sqrt(2)/2,np.sqrt(2)/2,0]])#0.042*3 # E,N \n",
    "\n"
   ]
  },
  {
   "cell_type": "code",
   "execution_count": 11,
   "id": "61941596",
   "metadata": {},
   "outputs": [],
   "source": [
    "fn=\"./D3A_3m_config.npz\"\n",
    "np.savez(fn,\n",
    "    name=Name,\n",
    "    n_dishes=N_Dishes,\n",
    "    n_channels=N_Channels,\n",
    "    chmap=D3A_chmap,\n",
    "    keystrings=Array_Keys,\n",
    "    origin=D3A_3m_Vect,\n",
    "    coords=Array_Coords,\n",
    "    pointings=Array_Pointings,\n",
    "    polarizations=Array_Pointings\n",
    ")"
   ]
  },
  {
   "cell_type": "code",
   "execution_count": null,
   "id": "764357e1",
   "metadata": {},
   "outputs": [],
   "source": []
  },
  {
   "cell_type": "code",
   "execution_count": null,
   "id": "5e56d76d",
   "metadata": {},
   "outputs": [],
   "source": []
  },
  {
   "cell_type": "code",
   "execution_count": 12,
   "id": "1b6b3970",
   "metadata": {},
   "outputs": [],
   "source": [
    "dat=np.load(\"./WLC_config.npz\")"
   ]
  },
  {
   "cell_type": "code",
   "execution_count": 13,
   "id": "119f3ce7",
   "metadata": {},
   "outputs": [
    {
     "name": "stdout",
     "output_type": "stream",
     "text": [
      "KeysView(<numpy.lib.npyio.NpzFile object at 0x7f00041a44c0>)\n"
     ]
    }
   ],
   "source": [
    "print(dat.keys())"
   ]
  },
  {
   "cell_type": "code",
   "execution_count": 14,
   "id": "b059615c",
   "metadata": {},
   "outputs": [
    {
     "data": {
      "text/plain": [
       "['name',\n",
       " 'n_dishes',\n",
       " 'n_channels',\n",
       " 'chmap',\n",
       " 'keystrings',\n",
       " 'origin',\n",
       " 'coords',\n",
       " 'pointings',\n",
       " 'polarizations']"
      ]
     },
     "execution_count": 14,
     "metadata": {},
     "output_type": "execute_result"
    }
   ],
   "source": [
    "dat.files"
   ]
  },
  {
   "cell_type": "code",
   "execution_count": 15,
   "id": "41e20c74",
   "metadata": {},
   "outputs": [
    {
     "data": {
      "text/plain": [
       "(2, 3)"
      ]
     },
     "execution_count": 15,
     "metadata": {},
     "output_type": "execute_result"
    }
   ],
   "source": [
    "dat['polarizations'].shape"
   ]
  },
  {
   "cell_type": "code",
   "execution_count": 16,
   "id": "36bfe719",
   "metadata": {},
   "outputs": [
    {
     "data": {
      "text/plain": [
       "array([0, 1])"
      ]
     },
     "execution_count": 16,
     "metadata": {},
     "output_type": "execute_result"
    }
   ],
   "source": [
    "dat['chmap']"
   ]
  },
  {
   "cell_type": "code",
   "execution_count": null,
   "id": "01c037c3",
   "metadata": {},
   "outputs": [],
   "source": []
  }
 ],
 "metadata": {
  "kernelspec": {
   "display_name": "beamcals",
   "language": "python",
   "name": "beamcals"
  },
  "language_info": {
   "codemirror_mode": {
    "name": "ipython",
    "version": 3
   },
   "file_extension": ".py",
   "mimetype": "text/x-python",
   "name": "python",
   "nbconvert_exporter": "python",
   "pygments_lexer": "ipython3",
   "version": "3.10.12"
  }
 },
 "nbformat": 4,
 "nbformat_minor": 5
}
