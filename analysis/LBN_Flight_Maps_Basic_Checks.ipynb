{
 "cells": [
  {
   "cell_type": "markdown",
   "id": "ebd18f70",
   "metadata": {},
   "source": [
    "# Compare similar flights to each other"
   ]
  },
  {
   "cell_type": "code",
   "execution_count": 2,
   "id": "f13f2efe",
   "metadata": {},
   "outputs": [],
   "source": [
    "## First import general packages for running python analysis:\n",
    "import os, h5py, datetime,pytz\n",
    "import numpy as np\n",
    "from matplotlib.pyplot import *\n",
    "from matplotlib import pyplot as plt\n",
    "import pickle, glob\n",
    "\n",
    "from scipy.interpolate import griddata\n",
    "import scipy.optimize as opt\n",
    "from scipy.optimize import curve_fit\n",
    "from scipy.optimize import leastsq\n",
    "from scipy.optimize import least_squares\n",
    "\n",
    "from mpl_toolkits.axes_grid1 import make_axes_locatable\n",
    "from matplotlib.colors import LogNorm\n",
    "from matplotlib.ticker import MultipleLocator\n",
    "\n",
    "## Then import the beamcals module packages and initialize 'gbosite' class:\n",
    "from beamcals import corr\n",
    "from beamcals import concat\n",
    "from beamcals import drone\n",
    "from beamcals import bicolog\n",
    "import beamcals.plotting_utils as pu\n",
    "import beamcals.fitting_utils as fu\n",
    "import beamcals.geometry_utils as gu\n",
    "import beamcals.time_utils as tu\n",
    "from beamcals.sites import site\n",
    "gbosite=site.site('../beamcals/beamcals/sites/GBO_config.npz')\n",
    "\n",
    "# various gridding attempts\n",
    "import pykrige.kriging_tools as kt\n",
    "from pykrige.ok import OrdinaryKriging\n",
    "\n",
    "freqs = 800.0*np.ones(1024) + (-400/1024.)*np.arange(1024)\n"
   ]
  },
  {
   "cell_type": "code",
   "execution_count": null,
   "id": "f1095940",
   "metadata": {},
   "outputs": [],
   "source": [
    "def get_newpointing(x,y,xc,yx,theta):\n",
    "    xp = x - xc\n",
    "    yp = y - yc\n",
    "    xpp = np.cos(theta)*xp - np.sin(theta)*yp\n",
    "    ypp = np.sin(theta)*xp + np.cos(theta)*yp\n",
    "    return xpp, ypp\n",
    "\n",
    "def get_slice(x,y,ty,val,tol):\n",
    "    if ty=='x':\n",
    "        ni = np.where(np.abs(x-val)<=tol)[0]\n",
    "    if ty=='y':\n",
    "        ni = np.where(np.abs(y-val)<=tol)[0]\n",
    "    return ni\n",
    "\n",
    "def Gauss_2d_cent(x,y,A,xsig,ysig,off):\n",
    "    xx = ((x)**2)/(2*(xsig**2))\n",
    "    yy = ((y)**2)/(2*(ysig**2))\n",
    "    return A*np.exp(-1.0*(xx + yy))+off\n",
    "\n",
    "def radial_profile(x,y,z,x0,y0):\n",
    "    r = np.sqrt((x-x0)**2 + (y-y0)**2)\n",
    "    r = r.astype(np.int)\n",
    "\n",
    "    tbin = np.bincount(r.ravel(), z.ravel())\n",
    "    nr = np.bincount(r.ravel())\n",
    "    radialprofile = tbin / nr\n",
    "    return radialprofile "
   ]
  },
  {
   "cell_type": "code",
   "execution_count": null,
   "id": "fcbfa7e3",
   "metadata": {},
   "outputs": [],
   "source": [
    "## Define anything I want to keep common\n",
    "dotsize=1\n",
    "freq_i = 900\n",
    "res = 500\n",
    "\n",
    "LX,LY = np.meshgrid(np.linspace(-100,100,res), np.linspace(-100,100,res))\n",
    "X = np.arange(-100,100,2.0,dtype='float64')\n",
    "Y = np.arange(-100,100,2.0,dtype='float64')\n",
    "d=0\n",
    "# this may change per flight\n",
    "\n",
    "Epols = [0,2,4,6,8,10,12,14]\n",
    "Npols = [1,3,5,7,9,11,13,15]\n",
    "\n",
    "dishes = [0,2,4]\n",
    "Nf = 1024\n",
    "Nd = len(dishes)"
   ]
  },
  {
   "cell_type": "code",
   "execution_count": null,
   "id": "4009d0ff",
   "metadata": {},
   "outputs": [],
   "source": [
    "fitdir='/hirax/GBO_Analysis_Outputs/main_beam_fits/'\n",
    "pckldir = '/hirax/GBO_Analysis_Outputs/flight_pickles/'"
   ]
  },
  {
   "cell_type": "code",
   "execution_count": null,
   "id": "14629af5",
   "metadata": {},
   "outputs": [],
   "source": [
    "flies = ['533','534','535','536','618','619','623','625','648','649','646','647','620','624']\n",
    "\n",
    "fly = flies[10]\n",
    "\n",
    "ffile = glob.glob(fitdir+'*'+fly+'*')[0]\n",
    "pklfile = glob.glob(pckldir+'*'+fly+'*')[0]\n",
    "print(ffile)\n",
    "print(pklfile)\n",
    "\n",
    "pols = Npols\n",
    "cpols = Epols"
   ]
  },
  {
   "cell_type": "markdown",
   "id": "f8e6427a",
   "metadata": {},
   "source": [
    "# 1. Look at a single flight and examine fits"
   ]
  },
  {
   "cell_type": "code",
   "execution_count": null,
   "id": "c934fc8f",
   "metadata": {},
   "outputs": [],
   "source": [
    "#######################\n",
    "#### Gaussian fit #####\n",
    "## check amplitudes ###\n",
    "#######################\n",
    "\n",
    "\n",
    "markers=['s',',']\n",
    "msize=[1,3]\n",
    "\n",
    "fits = np.load(ffile)\n",
    "\n",
    "D = len(fits['G_popt'][:,0,0])\n",
    "cm = plt.get_cmap('Spectral')\n",
    "fig = plt.figure(figsize=(10,10))\n",
    "ax = fig.add_subplot(111)\n",
    "ax.set_prop_cycle(color=[cm(1.*i/D) for i in range(D)])\n",
    "\n",
    "\n",
    "for d in np.arange(0,D):\n",
    "    if d in Npols: \n",
    "        plt.plot(freqs,fits['G_popt'][d,:,0],marker=markers[0],ms=msize[0],linestyle='None',label=str(d))\n",
    "    else: \n",
    "        plt.plot(freqs,fits['G_popt'][d,:,0],marker=markers[1],ms=msize[1],linestyle='None',label=str(d))\n",
    "plt.ylim(0,4E-7)\n",
    "plt.ylabel('Amp [arb]')\n",
    "plt.xlabel('Freq [MHz]')\n",
    "plt.legend(markerscale=3)\n",
    "plt.show()\n",
    "\n"
   ]
  },
  {
   "cell_type": "code",
   "execution_count": null,
   "id": "29fce459",
   "metadata": {},
   "outputs": [],
   "source": [
    "## Investigating North pol flights only, let's plot only the co-pol fit values\n",
    "\n",
    "for d in pols:\n",
    "    fig, axs = plt.subplots(6,1,figsize=(10,10))\n",
    "    \n",
    "    axs[0].plot(freqs,fits['G_popt'][d,:,1],'b,')\n",
    "    axs[0].set_ylim(-20,20)\n",
    "    axs[0].set_ylabel('X centroid')\n",
    "        \n",
    "    axs[1].plot(freqs,fits['G_popt'][d,:,3],'b,')\n",
    "    axs[1].set_ylim(-20,20)\n",
    "    axs[1].set_ylabel('Y centroid')\n",
    "\n",
    "    axs[2].plot(freqs,fits['G_popt'][d,:,2],'b,')\n",
    "    axs[2].set_ylim(0,20)\n",
    "    axs[2].set_ylabel('Xsig')\n",
    "        \n",
    "    axs[3].plot(freqs,fits['G_popt'][d,:,4],'b,')\n",
    "    axs[3].set_ylim(0,20)\n",
    "    axs[3].set_ylabel('Ysig')\n",
    "\n",
    "    axs[4].plot(freqs,fits['G_popt'][d,:,0],'b,')\n",
    "    axs[4].set_ylim(0,4E-7)\n",
    "    axs[4].set_ylabel('Amp')\n",
    "\n",
    "    axs[5].plot(freqs,fits['G_popt'][d,:,5],'b,')\n",
    "    axs[5].set_ylim(0,2E-8)\n",
    "    axs[5].set_ylabel('offset [arb]')\n",
    "    fig.tight_layout()\n",
    "    plt.show()\n"
   ]
  },
  {
   "cell_type": "code",
   "execution_count": null,
   "id": "96a933f6",
   "metadata": {},
   "outputs": [],
   "source": [
    "## Amplitude to Background ratios:\n",
    "\n",
    "fig = plt.figure(figsize=(16,8))\n",
    "for d in pols: \n",
    "    plt.plot(freqs,fits['G_popt'][d,:,0]/fits['G_popt'][d,:,5],marker='.',linestyle='None',label=str(d))\n",
    "    #plt.ylim(0,2E-8)\n",
    "    plt.ylabel('Amplitude /offset')\n",
    "    plt.xlabel('Frequency [MHz] ')\n",
    "    plt.ylim(0,20)\n",
    "plt.legend()\n",
    "plt.show()\n",
    "\n",
    "fig = plt.figure(figsize=(16,8))\n",
    "for d in pols: \n",
    "    plt.plot(freqs,fits['G_popt'][d,:,5],marker='.',linestyle='None',label=str(d))\n",
    "    #plt.ylim(0,2E-8)\n",
    "    plt.ylabel('Offset')\n",
    "    plt.xlabel('Frequency [MHz] ')\n",
    "    plt.ylim(0,2E-8)\n",
    "    #plt.xlim(200,300,750)\n",
    "plt.legend()\n",
    "plt.show()"
   ]
  },
  {
   "cell_type": "markdown",
   "id": "e21a0560",
   "metadata": {},
   "source": [
    "# 2. Examine Maps\n"
   ]
  },
  {
   "cell_type": "code",
   "execution_count": null,
   "id": "8ef9a412",
   "metadata": {},
   "outputs": [],
   "source": [
    "#######################\n",
    "##### Map Making ######\n",
    "## check amplitudes ###\n",
    "#######################\n",
    "\n",
    "with open(pklfile, 'rb') as inp:\n",
    "    pconcat = pickle.load(inp)\n",
    "\n",
    "inds_on_cut=np.intersect1d(np.arange(len(pconcat.t_arr_datetime)),pconcat.inds_on).tolist()\n",
    "indsuse0 = [j for j in inds_on_cut if str(pconcat.drone_xyz_LC_interp[j,0]) != 'nan']\n",
    "\n",
    "inds_off_cut=np.intersect1d(np.arange(len(pconcat.t_arr_datetime)),pconcat.inds_off).tolist()\n",
    "indsoff0 = [j for j in inds_off_cut if str(pconcat.drone_xyz_LC_interp[j,0]) != 'nan']\n",
    "\n",
    "\n",
    "x = pconcat.drone_xyz_LC_interp[indsuse0,0]\n",
    "y = pconcat.drone_xyz_LC_interp[indsuse0,1]"
   ]
  },
  {
   "cell_type": "code",
   "execution_count": null,
   "id": "43e2a992",
   "metadata": {},
   "outputs": [],
   "source": [
    "LZs = np.zeros([len(pols),len(LX[:,0]),len(LY[0,:])])\n",
    "RPs = np.zeros([len(pols),142])\n",
    "\n",
    "for di in range(0,len(pols)):\n",
    "    d = pols[di]\n",
    "    xc = pconcat.G_popt[d,freq_i,1] # x centroid\n",
    "    yc = pconcat.G_popt[d,freq_i,3] # y centroid\n",
    "    amp_corr = pconcat.V_bgsub[indsuse0,freq_i,d]/pconcat.G_popt[d,freq_i,0]\n",
    "                \n",
    "    #plt.scatter(x,y,s=dotsize, c=amp_corr, cmap='gnuplot2')\n",
    "    #plt.colorbar()\n",
    "    #plt.show()  \n",
    "\n",
    "    xp,yp = get_newpointing(x,y,xc,yc,0.0)       \n",
    "   \n",
    "    plt.title('INPUT: '+str(d))\n",
    "    plt.scatter(xp,yp,s=dotsize, c=10*np.log10(amp_corr), cmap='gnuplot2')\n",
    "    plt.colorbar()\n",
    "    plt.show()\n",
    "\n",
    "    # linear gridding, for reference\n",
    "    try:\n",
    "        LZs[di,:,:] = griddata((xp,yp), amp_corr, (LX,LY), method='linear')\n",
    "        RPs[di,:] = radial_profile(LX,LY,LZs[di,:,:],0,0)\n",
    "    except: 'Could not linearly interpolate!!!!!'\n",
    "\n",
    "for di in range(0,len(pols)):\n",
    "    d = pols[di]\n",
    "    plt.title('INPUT: '+str(d))\n",
    "    plt.pcolormesh(LX,LY, 10*np.log10(LZs[di,:,:]), shading='auto',cmap='gnuplot2',vmin=0,vmax=-60)\n",
    "    plt.legend()\n",
    "    plt.colorbar()\n",
    "    plt.axis(\"equal\")\n",
    "    plt.show()    "
   ]
  },
  {
   "cell_type": "code",
   "execution_count": null,
   "id": "b8fa7eb0",
   "metadata": {},
   "outputs": [],
   "source": [
    "## Look at cross-pol instead\n",
    "\n",
    "LZs = np.zeros([len(pols),len(LX[:,0]),len(LY[0,:])])\n",
    "\n",
    "for di in range(0,len(pols)):\n",
    "    d = cpols[di]\n",
    "    xc = pconcat.G_popt[d,freq_i,1] # x centroid\n",
    "    yc = pconcat.G_popt[d,freq_i,3] # y centroid\n",
    "    amp_corr = pconcat.V_bgsub[indsuse0,freq_i,d]/pconcat.G_popt[d,freq_i,0]\n",
    "\n",
    "    xp,yp = get_newpointing(x,y,xc,yc,0.0)       \n",
    "    plt.title('INPUT: '+str(d))\n",
    "    plt.scatter(xp,yp,s=dotsize, c=10*np.log10(amp_corr), cmap='gnuplot2')\n",
    "    plt.colorbar()\n",
    "    plt.show()\n",
    "\n",
    "    # linear gridding, for reference\n",
    "    try:\n",
    "        LZs[di,:,:] = griddata((xp,yp), amp_corr, (LX,LY), method='linear')\n",
    "    except: 'Could not linearly interpolate!!!!!'\n",
    "\n",
    "for di in range(0,len(pols)):\n",
    "    d = cpols[di]\n",
    "    plt.title('INPUT: '+str(d))\n",
    "    plt.pcolormesh(LX,LY, 10*np.log10(LZs[di,:,:]), shading='auto',cmap='gnuplot2',vmin=0,vmax=-60)\n",
    "    plt.legend()\n",
    "    plt.colorbar()\n",
    "    plt.axis(\"equal\")\n",
    "    plt.show()"
   ]
  },
  {
   "cell_type": "markdown",
   "id": "8860ca8b",
   "metadata": {},
   "source": [
    "# 3. Look at FWHMs, ellipticities"
   ]
  },
  {
   "cell_type": "code",
   "execution_count": null,
   "id": "7fb9ec79",
   "metadata": {},
   "outputs": [],
   "source": [
    "\n",
    "fig = plt.figure(figsize=(16,8))\n",
    "for d in pols: \n",
    "    ell = (fits['G_popt'][d,:,2]-fits['G_popt'][d,:,4]) / (fits['G_popt'][d,:,2]+fits['G_popt'][d,:,4])\n",
    "    plt.plot(freqs, ell, marker='.',linestyle='None',label=str(d))\n",
    "    plt.ylabel('Ellipticity')\n",
    "    plt.xlabel('Frequency [MHz] ')\n",
    "    plt.ylim(-0.2,0.2)\n",
    "plt.legend()\n",
    "plt.show()\n",
    "\n",
    "print(freqs[freq_i])"
   ]
  },
  {
   "cell_type": "markdown",
   "id": "6326d6e4",
   "metadata": {},
   "source": [
    "# 4. Examine radial profiles"
   ]
  },
  {
   "cell_type": "code",
   "execution_count": null,
   "id": "ca18a9ec",
   "metadata": {
    "scrolled": false
   },
   "outputs": [],
   "source": [
    "## Dumb thing first: convert all centroid corrected X, Y\n",
    "# to r coordinate and overplot Gaussian \n",
    "\n",
    "\n",
    "for di in range(0,len(pols)):\n",
    "    d = pols[di]\n",
    "\n",
    "    xp,yp = get_newpointing(x,y,pconcat.G_popt[d,freq_i,1],pconcat.G_popt[d,freq_i,3],0.0)  \n",
    "    \n",
    "    Gval = Gauss_2d_cent(xp,yp,pconcat.G_popt[d,freq_i,0],\n",
    "                         pconcat.G_popt[d,freq_i,2],pconcat.G_popt[d,freq_i,4],pconcat.G_popt[d,freq_i,5])\n",
    "    r = np.sqrt(xp**2 + yp**2)\n",
    "    plt.plot(r,pconcat.V_bgsub[indsuse0,freq_i,d],'b,')\n",
    "    xslice = get_slice(xp,yp,'y',0.0,2.0)\n",
    "    plt.plot(r[xslice],pconcat.V_bgsub[np.array(indsuse0)[xslice.astype(int)],freq_i,d],'r.')\n",
    "    plt.plot(r,Gval,color='black')\n",
    "    plt.title('INPUT: '+str(d))\n",
    "    \n",
    "    plt.show()\n"
   ]
  },
  {
   "cell_type": "code",
   "execution_count": null,
   "id": "e5de0fc1",
   "metadata": {},
   "outputs": [],
   "source": []
  },
  {
   "cell_type": "code",
   "execution_count": null,
   "id": "5d293eee",
   "metadata": {},
   "outputs": [],
   "source": []
  },
  {
   "cell_type": "code",
   "execution_count": null,
   "id": "e3083465",
   "metadata": {},
   "outputs": [],
   "source": [
    "for di in range(0,len(pols)):\n",
    "    d = pols[di]\n",
    "    plt.plot(10*np.log10(RPs[di,:]),label=str(d))\n",
    "plt.xlim(0,60)\n",
    "plt.ylim(-30,0)\n",
    "plt.legend()\n",
    "plt.show()"
   ]
  },
  {
   "cell_type": "code",
   "execution_count": null,
   "id": "25615655",
   "metadata": {},
   "outputs": [],
   "source": [
    "for di in range(0,len(pols)):\n",
    "    d = pols[di]\n",
    "    plt.plot(RPs[di,:],label=str(d))\n",
    "plt.xlim(0,15)\n",
    "plt.ylim(0,0.9)\n",
    "plt.legend()\n",
    "plt.show()"
   ]
  },
  {
   "cell_type": "code",
   "execution_count": null,
   "id": "e2e419f4",
   "metadata": {},
   "outputs": [],
   "source": [
    "# 4. Examine Frequency dependence\n",
    "\n",
    "LZs = np.zeros([len(freqs),len(pols),len(LX[:,0]),len(LY[0,:])])\n",
    "RPs = np.zeros([len(freqs),len(pols),142])\n",
    "\n",
    "for di in range(0,len(pols)):\n",
    "    d = pols[di]\n",
    "    for f in np.arange(0,len(freqs)):\n",
    "        xc = pconcat.G_popt[d,f,1] # x centroid\n",
    "        yc = pconcat.G_popt[d,f,3] # y centroid\n",
    "        amp_corr = pconcat.V_bgsub[indsuse0,f,d]/pconcat.G_popt[d,f,0]\n",
    "                \n",
    "        xp,yp = get_newpointing(x,y,xc,yc,0.0)       \n",
    "\n",
    "        try:\n",
    "            LZs[f,di,:,:] = griddata((xp,yp), amp_corr, (LX,LY), method='linear')\n",
    "            RPs[f,di,:] = radial_profile(LX,LY,LZs[f,di,:,:],0,0)\n",
    "        except: 'Could not linearly interpolate!!!!!'\n",
    "    "
   ]
  },
  {
   "cell_type": "code",
   "execution_count": null,
   "id": "cea100ca",
   "metadata": {},
   "outputs": [],
   "source": [
    "di = 0\n",
    "\n",
    "F = len(freqs)\n",
    "cm = plt.get_cmap('Spectral')\n",
    "fig = plt.figure(figsize=(10,10))\n",
    "ax = fig.add_subplot(111)\n",
    "ax.set_prop_cycle(color=[cm(1.*i/F) for i in range(F)])\n",
    "\n",
    "for f in range(0,len(freqs)):\n",
    "    plt.plot(RPs[f,di,:],alpha=0.2)\n",
    "plt.xlim(0,14)\n",
    "plt.show()"
   ]
  },
  {
   "cell_type": "code",
   "execution_count": null,
   "id": "98fdc644",
   "metadata": {
    "scrolled": false
   },
   "outputs": [],
   "source": [
    "for di in range(0,len(pols)):\n",
    "    plt.imshow(10*np.log10(RPs[:,di,:]),vmin=-30,vmax=0,extent=([0, 142, 800, 400]),aspect='auto')\n",
    "    plt.colorbar()\n",
    "    plt.xlim(0,60)\n",
    "    plt.show()\n",
    "\n",
    "    plt.imshow(RPs[:,di,:],vmin=0,vmax=0.9,extent=([0, 142, 800, 400]),aspect='auto')\n",
    "    plt.colorbar()\n",
    "    plt.xlim(0,14)\n",
    "    plt.show()"
   ]
  },
  {
   "cell_type": "code",
   "execution_count": null,
   "id": "80fbb747",
   "metadata": {},
   "outputs": [],
   "source": []
  },
  {
   "cell_type": "code",
   "execution_count": null,
   "id": "8cf41d41",
   "metadata": {},
   "outputs": [],
   "source": []
  },
  {
   "cell_type": "code",
   "execution_count": null,
   "id": "07cd0104",
   "metadata": {
    "scrolled": false
   },
   "outputs": [],
   "source": []
  },
  {
   "cell_type": "code",
   "execution_count": null,
   "id": "2ec88ae9",
   "metadata": {},
   "outputs": [],
   "source": []
  },
  {
   "cell_type": "code",
   "execution_count": null,
   "id": "1cf179b2",
   "metadata": {},
   "outputs": [],
   "source": []
  },
  {
   "cell_type": "code",
   "execution_count": null,
   "id": "c4903a2d",
   "metadata": {},
   "outputs": [],
   "source": []
  },
  {
   "cell_type": "code",
   "execution_count": null,
   "id": "81ade3ff",
   "metadata": {},
   "outputs": [],
   "source": []
  },
  {
   "cell_type": "code",
   "execution_count": null,
   "id": "9d9693c0",
   "metadata": {},
   "outputs": [],
   "source": []
  }
 ],
 "metadata": {
  "kernelspec": {
   "display_name": "Python 3",
   "language": "python",
   "name": "python3"
  },
  "language_info": {
   "codemirror_mode": {
    "name": "ipython",
    "version": 3
   },
   "file_extension": ".py",
   "mimetype": "text/x-python",
   "name": "python",
   "nbconvert_exporter": "python",
   "pygments_lexer": "ipython3",
   "version": "3.8.8"
  }
 },
 "nbformat": 4,
 "nbformat_minor": 5
}
