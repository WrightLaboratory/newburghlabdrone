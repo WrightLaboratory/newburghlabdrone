{
 "cells": [
  {
   "cell_type": "code",
   "execution_count": 1,
   "metadata": {},
   "outputs": [],
   "source": [
    "# ____________ _____ _____ _____   _____ _____ _________________   \n",
    "#|  ___| ___ \\_   _|_   _/  ___| /  __ \\  _  |  ___|  ___|  ___|  \n",
    "#| |_  | |_/ / | |   | | \\ `--.  | /  \\/ | | | |__ | |_  | |_ ___ \n",
    "#|  _| |    /  | |   | |  `--. \\ | |   | | | |  __||  _| |  _/ __|\n",
    "#| |   | |\\ \\ _| |_ _| |_/\\__/ / | \\__/\\ \\_/ / |___| |   | | \\__ \\\n",
    "#\\_|   \\_| \\_|\\___/ \\___/\\____/   \\____/\\___/\\____/\\_|   \\_| |___/\n",
    "                                                                 \n",
    "## This is a test environment for the FRIIS COEFFICIENT calculations\n",
    "## This will hopefully become a part of some concatenation class in the data pipeline\n",
    "## This will combine telescope data with drone data, so both will be needed as input\n",
    "## Additionally this must pull and interpolate the Bicolog Beam model"
   ]
  },
  {
   "cell_type": "code",
   "execution_count": 2,
   "metadata": {},
   "outputs": [],
   "source": [
    "## Actual Debugging Work:\n",
    "    # 1) Make the FRIIS COEFFICIENT Array in class format:\n",
    "    "
   ]
  },
  {
   "cell_type": "code",
   "execution_count": null,
   "metadata": {},
   "outputs": [],
   "source": [
    "    def Generate_FRIIS_Coeffs(self,t_cut=False,t_bounds=[0,-1]):\n",
    "        ## Friis Equation Coefficients will be coeff of proportionality between Receiver Beam D and Pr/Pt ratio\n",
    "        ## This will be initialized as a 4d array: (Receiver, Polarization, Time, Freq)\n",
    "        "
   ]
  },
  {
   "cell_type": "code",
   "execution_count": null,
   "metadata": {},
   "outputs": [],
   "source": [
    "## Calculating \"FRIIS COEFFICIENT\" Array, which is the proportionality between Receiver Beam and Pr/Pt ratio ##\n",
    "    # For Autocorrelation data, this will have to be 4 dimensional: (Receiver, Polarization, Time, Freq)\n",
    "    # This array can be multiplied elementwise by the power ratio (Pr/Pt) which will require CALIBRATED DATA.\n",
    "    # The product of those is the Receiver Beam: D_r([theta,phi],receiver,polarization,freq)[time]\n",
    "    # For each receiver, we will need to measure the position and pointing relative to our coordinate origin!\n",
    "    \n",
    "## Calculate Scalar Factor Array: (4*pi*R/lambda)**2\n",
    "    # The radius R will be different for each receiver\n",
    "    # The wavelength is a function of frequency\n",
    "Wavelength_Array=(3.0e8/1.0e6)*np.outer(np.ones(len(time)),freq)**-1.0\n",
    "R_Array=np.outer(data.coords_rpt[:,0],np.ones(len(freq)))\n",
    "Sc_Factor=(4.0*np.pi*Wavelength_Array/R_Array)**2.0\n",
    "\n",
    "## Calculate Efficiency Factor Array:  1/(e_t0*e_r0)\n",
    "    # To actually calculate this, we will need efficiency measurements for each receiver polarization per freq.\n",
    "    # We can include these later, if we collect these measurements, interpolate to frequencies in data\n",
    "    # For now, it will all be ones (unity)!\n",
    "Ecdt=1.0*np.ones(len(freq))        #conduction and dielectric (f)\n",
    "Gammat=1.0*np.ones(len(freq))      #reflection coeff (f)\n",
    "Eff_Trans=Ecdt*(1.0-(Gammat)**2.0) # e_t0 = total efficiency of transmitter (f)\n",
    "Ecdr=1.0*np.ones(len(freq))\n",
    "Gammar=1.0*np.ones(len(freq))\n",
    "Eff_Rec=Ecdr*(1.0-(Gammar)**2.0)   # e_r0 = total efficiency of receiver (f)\n",
    "Eff_Factor=np.outer(np.ones(len(time)),(Eff_Trans*Eff_Rec)**-1.0)\n",
    "\n",
    "## Calculate PLF Factor: 1/mag(trans_pol_vec.rec_pol_vec)**2\n",
    "## Define the pointing direction for the drone as a function of time, from rotating Nose direction:\n",
    "drone_pol_pointing=np.array([RotMat(np.array([90.0,0.0,180.0]))@RotMat(ypr[m,:])@np.array([1,0,0]) for m in range(len(data.t_index))])\n",
    "## Calculate the PLF (POLARIZATION LOSS FACTOR) for each receiver/polarization as fxn of time:\n",
    "PLF_Factor=np.zeros((4,2,len(data.t_index)))\n",
    "for j in range(4):\n",
    "    for k in range(2):\n",
    "        PLF_Factor[j,k,:]=np.array([np.dot(drone_pol_pointing,Array_Pols[j,k,:])**2.0])\n",
    "\n",
    "## Calculate Transmitter Directivity Factor Array: 1/Dt(theta_t,phi_t)\n",
    "    # Depends on receiver position as seen by drone transmitter as a function of time\n",
    "\n",
    "\n",
    "## Initialize \"FRIIS_COEFF_ARRAY\" -- the output data product, which has same dims as data:\n",
    "FRIIS_COEFF_ARRAY=Sc_Factor*Eff_Factor\n"
   ]
  },
  {
   "cell_type": "code",
   "execution_count": null,
   "metadata": {},
   "outputs": [],
   "source": []
  },
  {
   "cell_type": "code",
   "execution_count": null,
   "metadata": {},
   "outputs": [],
   "source": []
  },
  {
   "cell_type": "code",
   "execution_count": null,
   "metadata": {},
   "outputs": [],
   "source": []
  },
  {
   "cell_type": "code",
   "execution_count": null,
   "metadata": {},
   "outputs": [],
   "source": []
  },
  {
   "cell_type": "code",
   "execution_count": null,
   "metadata": {},
   "outputs": [],
   "source": []
  }
 ],
 "metadata": {
  "kernelspec": {
   "display_name": "Python 3",
   "language": "python",
   "name": "python3"
  },
  "language_info": {
   "codemirror_mode": {
    "name": "ipython",
    "version": 3
   },
   "file_extension": ".py",
   "mimetype": "text/x-python",
   "name": "python",
   "nbconvert_exporter": "python",
   "pygments_lexer": "ipython3",
   "version": "3.7.3"
  }
 },
 "nbformat": 4,
 "nbformat_minor": 4
}
