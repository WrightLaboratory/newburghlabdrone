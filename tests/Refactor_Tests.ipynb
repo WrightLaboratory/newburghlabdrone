{
 "cells": [
  {
   "cell_type": "code",
   "execution_count": 1,
   "id": "ac674e7b",
   "metadata": {},
   "outputs": [],
   "source": [
    "import os\n",
    "import numpy as np\n",
    "from matplotlib.pyplot import *\n",
    "import h5py\n",
    "import datetime\n",
    "import pytz\n",
    "\n",
    "from dronepkg import corr\n",
    "from dronepkg import concat\n",
    "from dronepkg import drone\n",
    "from dronepkg import bicolog\n",
    "import dronepkg.plotting_utils as pu\n",
    "import dronepkg.fitting_utils as fu\n",
    "import dronepkg.geometry_utils as gu\n",
    "import dronepkg.time_utils as tu\n",
    "\n",
    "from dronepkg.sites import site\n",
    "gbosite=site.site('../dronepkg/dronepkg/sites/GBO_config.npz')"
   ]
  },
  {
   "cell_type": "code",
   "execution_count": 2,
   "id": "3d1c35f8",
   "metadata": {},
   "outputs": [
    {
     "name": "stdout",
     "output_type": "stream",
     "text": [
      "Initializing drone data via datcon_csv routine: FLY653.csv\n",
      " --> Skipping rows 1 to 499 to eliminate NAN values\n",
      " --> Attempting to load position data from RTK\n",
      " ----> RTK Data not found for this data file...\n",
      " --> Loading position data from GPS(0) instead:\n",
      "Timestamp interpolation succeeded\n",
      " --> generating llh, geocentric cartesian, local cartesian, and local spherical coordinates.\n",
      " --> generating dish and receiver line of sight coordinates.\n"
     ]
    }
   ],
   "source": [
    "## Read Drone Data: \n",
    "dronedir='/hirax/all_drone_data/datcon_csv/'\n",
    "dronetest=drone.Drone_Data(Drone_Directory=dronedir,FLYTAG='FLY653.csv',site_class=gbosite)"
   ]
  },
  {
   "cell_type": "code",
   "execution_count": null,
   "id": "410190f6",
   "metadata": {},
   "outputs": [
    {
     "name": "stdout",
     "output_type": "stream",
     "text": [
      "Initializing Correlator Class using:\n",
      " --> /hirax/GBO_Oct_2021/TONE_ACQ/20211022T215446Z_yale_drone/corr/20211022T215459Z/\n",
      " --> Arrays initialized with shape (108, 256, 1023, 16)\n",
      "Assigning array values by reading in data files:\n",
      " --> Loading File: 0065/0107"
     ]
    }
   ],
   "source": [
    "## Attempt to initialize correlator data class from new format: [working!]\n",
    "gaindir='/hirax/GBO_Oct_2021/TONE_ACQ/digital_gains/20211022T215446Z_yale_drone_yale_digitalgain/'\n",
    "datadir='/hirax/GBO_Oct_2021/TONE_ACQ/20211022T215446Z_yale_drone/corr/20211022T215459Z/'\n",
    "corrtest=corr.Corr_Data(Data_Directory=datadir,Gain_Directory=gaindir,site_class=gbosite)"
   ]
  },
  {
   "cell_type": "code",
   "execution_count": null,
   "id": "d9b02958",
   "metadata": {},
   "outputs": [],
   "source": [
    "#pulsedgrid200m_drone.Plot_Drone_Coordinates()\n",
    "plot(dronetest.t_arr_datetime)\n",
    "plot(corrtest.t_arr_datetime)"
   ]
  },
  {
   "cell_type": "code",
   "execution_count": null,
   "id": "3d90002d",
   "metadata": {
    "scrolled": false
   },
   "outputs": [],
   "source": [
    "## Test plotting functions: [They are working!]\n",
    "#pu.Plot_Waterfalls(main_beam_corr)\n",
    "#pu.Plot_Time_Series(main_beam_corr,tbounds=[100,1000],freqlist=[850,900])"
   ]
  },
  {
   "cell_type": "code",
   "execution_count": null,
   "id": "a44bf8cc",
   "metadata": {
    "scrolled": false
   },
   "outputs": [],
   "source": [
    "concattest=concat.CONCAT(CORRDATCLASS=corrtest,DRONEDATCLASS=dronetest)"
   ]
  },
  {
   "cell_type": "code",
   "execution_count": null,
   "id": "6e83e600",
   "metadata": {},
   "outputs": [],
   "source": [
    "tlb,tub=[14200,14700]\n",
    "find=900\n",
    "\n",
    "fig=figure(figsize=(16,8))\n",
    "for i in range(concattest.n_channels)[:2]:\n",
    "    ax1=fig.add_subplot(2,2,i+1)\n",
    "    ax2=fig.add_subplot(2,2,i+3)\n",
    "    ax1.semilogy(concattest.t_index[:],concattest.V[:,find,concattest.chmap[i]],'.')\n",
    "    for ax in [ax1,ax2]:\n",
    "        ax.semilogy(concattest.t_index[tlb:tub],concattest.V[tlb:tub,find,concattest.chmap[i]],'.')\n"
   ]
  },
  {
   "cell_type": "code",
   "execution_count": null,
   "id": "53b7dbdc",
   "metadata": {
    "scrolled": false
   },
   "outputs": [],
   "source": [
    "concattest.Extract_Source_Pulses(Period=0.4e6,Dutycycle=0.2e6,t_bounds=[14200,14700])\n",
    "concattest.Perform_Background_Subtraction()"
   ]
  },
  {
   "cell_type": "code",
   "execution_count": null,
   "id": "4f39c543",
   "metadata": {},
   "outputs": [],
   "source": [
    "semilogy(concattest.V[:,find,0],'.')\n",
    "semilogy(concattest.V_bg[:,find,0],'.')\n",
    "plot(concattest.drone_xyz_LC_interp)"
   ]
  },
  {
   "cell_type": "code",
   "execution_count": null,
   "id": "69e5b7f7",
   "metadata": {
    "scrolled": false
   },
   "outputs": [],
   "source": [
    "concattest.Plot_Beammap_LC(t_bounds=[0,25000],coord_args=\"Pol\",pulse_args=\"on\",f_bounds=[300,340],dotsize=40)"
   ]
  },
  {
   "cell_type": "code",
   "execution_count": null,
   "id": "bfea3420",
   "metadata": {},
   "outputs": [],
   "source": []
  },
  {
   "cell_type": "code",
   "execution_count": null,
   "id": "a4d880ac",
   "metadata": {},
   "outputs": [],
   "source": []
  },
  {
   "cell_type": "code",
   "execution_count": null,
   "id": "61dbbc00",
   "metadata": {},
   "outputs": [],
   "source": []
  },
  {
   "cell_type": "code",
   "execution_count": null,
   "id": "f6da3913",
   "metadata": {},
   "outputs": [],
   "source": []
  },
  {
   "cell_type": "code",
   "execution_count": null,
   "id": "7c61cb45",
   "metadata": {},
   "outputs": [],
   "source": []
  },
  {
   "cell_type": "code",
   "execution_count": 6,
   "id": "3c6a6a66",
   "metadata": {},
   "outputs": [
    {
     "name": "stdout",
     "output_type": "stream",
     "text": [
      "2021-10-22 13:08:33.781205+00:00\n",
      "[datetime.timedelta(microseconds=41943)\n",
      " datetime.timedelta(microseconds=41943)\n",
      " datetime.timedelta(microseconds=41943)\n",
      " datetime.timedelta(microseconds=41943)\n",
      " datetime.timedelta(microseconds=41943)\n",
      " datetime.timedelta(microseconds=41943)\n",
      " datetime.timedelta(microseconds=41943)\n",
      " datetime.timedelta(microseconds=41943)\n",
      " datetime.timedelta(microseconds=41943)\n",
      " datetime.timedelta(microseconds=41943)]\n"
     ]
    },
    {
     "data": {
      "text/plain": [
       "[<matplotlib.lines.Line2D at 0x7f5490eb5820>]"
      ]
     },
     "execution_count": 6,
     "metadata": {},
     "output_type": "execute_result"
    },
    {
     "data": {
      "image/png": "[encoded data removed]",
      "text/plain": [
       "<Figure size 1152x288 with 1 Axes>"
      ]
     },
     "metadata": {
      "needs_background": "light"
     },
     "output_type": "display_data"
    }
   ],
   "source": [
    "## Bugfix 1: datetimes from irigb_time in the corr.py class: [now successfully integrated into corr class]\n",
    "## Datetime debugging: using 'irigb_time' works, but need to divide by 1e9 \n",
    "datadir='/hirax/GBO_Oct_2021/TONE_ACQ/20211022T125439Z_yale_drone/corr/20211022T125451Z/'\n",
    "fd=h5py.File(datadir+'0077','r')\n",
    "tib=fd['index_map']['time']['irigb_time']\n",
    "tdt=[datetime.datetime.fromtimestamp(1e-9*k,pytz.timezone('America/Montreal')).astimezone(pytz.utc) for k in tib]\n",
    "print((tdt)[0])\n",
    "print(np.diff(tdt)[:10])\n",
    "## Plot fixed timestamps:\n",
    "fig=figure(figsize=(16,4))\n",
    "plot(np.diff(main_beam_corr.t),'.',)"
   ]
  },
  {
   "cell_type": "code",
   "execution_count": null,
   "id": "ee20e386",
   "metadata": {},
   "outputs": [],
   "source": []
  }
 ],
 "metadata": {
  "kernelspec": {
   "display_name": "Python 3",
   "language": "python",
   "name": "python3"
  },
  "language_info": {
   "codemirror_mode": {
    "name": "ipython",
    "version": 3
   },
   "file_extension": ".py",
   "mimetype": "text/x-python",
   "name": "python",
   "nbconvert_exporter": "python",
   "pygments_lexer": "ipython3",
   "version": "3.8.8"
  }
 },
 "nbformat": 4,
 "nbformat_minor": 5
}
