{
 "cells": [
  {
   "cell_type": "code",
   "execution_count": 2,
   "id": "ac674e7b",
   "metadata": {},
   "outputs": [],
   "source": [
    "from dronepkg import corr\n",
    "from dronepkg import concat\n",
    "from dronepkg import drone\n",
    "from dronepkg import sites"
   ]
  },
  {
   "cell_type": "code",
   "execution_count": 7,
   "id": "9a74f90c",
   "metadata": {},
   "outputs": [
    {
     "data": {
      "text/plain": [
       "array([[  0.        ,   0.        ,   0.        ],\n",
       "       [-24.21539575, -12.60573714,   0.        ],\n",
       "       [ -8.40382476,  16.14359716,   0.        ],\n",
       "       [ -8.07179858,  -4.20191238,   0.        ],\n",
       "       [-12.27371096,   3.8698862 ,   0.        ],\n",
       "       [-16.47562334,  11.94168478,   0.        ],\n",
       "       [-20.34550954,  -0.33202618,   0.        ],\n",
       "       [-28.41730813,  -4.53393856,   0.        ]])"
      ]
     },
     "execution_count": 7,
     "metadata": {},
     "output_type": "execute_result"
    }
   ],
   "source": [
    "sites.Array_Coords"
   ]
  },
  {
   "cell_type": "code",
   "execution_count": null,
   "id": "30d0eaf3",
   "metadata": {},
   "outputs": [],
   "source": []
  }
 ],
 "metadata": {
  "kernelspec": {
   "display_name": "Python 3",
   "language": "python",
   "name": "python3"
  },
  "language_info": {
   "codemirror_mode": {
    "name": "ipython",
    "version": 3
   },
   "file_extension": ".py",
   "mimetype": "text/x-python",
   "name": "python",
   "nbconvert_exporter": "python",
   "pygments_lexer": "ipython3",
   "version": "3.8.8"
  }
 },
 "nbformat": 4,
 "nbformat_minor": 5
}
