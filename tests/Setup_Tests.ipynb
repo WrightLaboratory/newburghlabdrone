{
 "cells": [
  {
   "cell_type": "code",
   "execution_count": 2,
   "id": "9ba19ee8",
   "metadata": {},
   "outputs": [],
   "source": [
    "from setuptools import setup\n",
    "from setuptools import find_packages"
   ]
  },
  {
   "cell_type": "code",
   "execution_count": 3,
   "id": "aed43725",
   "metadata": {},
   "outputs": [
    {
     "data": {
      "text/plain": [
       "['dronepkg', 'dronepkg.sites']"
      ]
     },
     "execution_count": 3,
     "metadata": {},
     "output_type": "execute_result"
    }
   ],
   "source": [
    "find_packages(\"../beamcals/\")\n"
   ]
  },
  {
   "cell_type": "code",
   "execution_count": null,
   "id": "82928e33",
   "metadata": {},
   "outputs": [],
   "source": [
    "#testing: WORKS NOW\n",
    "from setuptools import setup\n",
    "from setuptools import find_packages\n",
    "\n",
    "with open(\"README.md\", \"r\", encoding=\"utf-8\") as fh:\n",
    "    long_description = fh.read()\n",
    "\n",
    "setuptools.setup(\n",
    "    name=\"beamcals\",\n",
    "    version=\"1.0\",\n",
    "    author=\"Will Tyndall\",\n",
    "    author_email=\"will.tyndall@yale.edu\",\n",
    "    description=\"BEAm Mapping CALibration System\",\n",
    "    classifiers=[\n",
    "        \"Programming Language :: Python :: 3\",\n",
    "        \"License :: OSI Approved :: MIT License\",\n",
    "        \"Operating System :: OS Independent\",\n",
    "    ],\n",
    "    package_dir={\"beamcals\": \"beamcals\"},\n",
    "    packages=setuptools.find_packages(include=[\"beamcals\", 'beamcals.*']),\n",
    "    python_requires=\">=3.8\",\n",
    ")"
   ]
  },
  {
   "cell_type": "code",
   "execution_count": null,
   "id": "51b55e10",
   "metadata": {},
   "outputs": [],
   "source": [
    "#works:\n",
    "from distutils.core import setup\n",
    "\n",
    "__version__ = '1.0'\n",
    "\n",
    "with open('requirements.txt') as f:\n",
    "    requirements = f.read().splitlines()\n",
    "\n",
    "setup_args = {\n",
    "    'name': 'dronepkg',\n",
    "    'author': 'Willy Tyndall',\n",
    "    'license': 'BSD',\n",
    "    'package_dir': {'dronepkg': 'dronepkg'},\n",
    "    'packages': ['dronepkg'],\n",
    "    'version': __version__,\n",
    "    'setup_requires': ['pytest-runner', 'numpy'],\n",
    "    'install_requires': requirements,\n",
    "    'tests_require': requirements,\n",
    "\n",
    "}\n",
    "\n",
    "if __name__ == '__main__':\n",
    "    setup(**setup_args)"
   ]
  }
 ],
 "metadata": {
  "kernelspec": {
   "display_name": "Python 3",
   "language": "python",
   "name": "python3"
  },
  "language_info": {
   "codemirror_mode": {
    "name": "ipython",
    "version": 3
   },
   "file_extension": ".py",
   "mimetype": "text/x-python",
   "name": "python",
   "nbconvert_exporter": "python",
   "pygments_lexer": "ipython3",
   "version": "3.8.8"
  }
 },
 "nbformat": 4,
 "nbformat_minor": 5
}
